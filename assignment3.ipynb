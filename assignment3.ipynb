{
 "cells": [
  {
   "cell_type": "markdown",
   "metadata": {},
   "source": [
    "# Assignment 3 - Pandas and SQL\n",
    "This assignment will test your basic knowledge of SQL using postgres and python/pandas. For all of this assignment please use the database system on the course jupyterhub as shown in class. The due date for this assignment is **December 9th, 11:59pm**."
   ]
  },
  {
   "cell_type": "markdown",
   "metadata": {},
   "source": [
    "## Question 1 (20%)\n",
    "Update the ER diagram below adding a `firstname`, `lastname`, and `email` address field to the `Users` relation. Further, add an `Address` table which has `city`, `state`, and `zipcode` fields and associate this with the `Users` table through a new foreign key. Include the updated ER diagram as an image embeded in your final notebook (just like the example one I created below).\n",
    "\n",
    "![](assignment3q1.png)"
   ]
  },
  {
   "cell_type": "markdown",
   "metadata": {},
   "source": [
    "## Question 2 (5%)\n",
    "What kind of schema, from the kinds we discussed in class, does the ER diagram you have provided describe?"
   ]
  },
  {
   "cell_type": "markdown",
   "metadata": {},
   "source": [
    "## Question 3 (25%)\n",
    "Write python/SQL code to create the database tables in the ER diagram. You should put some fake data into the table which captures at least 5 users (where two of them live at the same address) and 15 survey question responses."
   ]
  },
  {
   "cell_type": "markdown",
   "metadata": {},
   "source": [
    "## Question 4 (25%)\n",
    "Imagine you want to get one single pandas dataframe which holds all of your data. How would you do that from a single SQL query? Write that query and use `psycopg2` to load it into a pandas dataframe."
   ]
  },
  {
   "cell_type": "markdown",
   "metadata": {},
   "source": [
    "## Question 5 (25%)\n",
    "Write code, in SQL or pandas as you prefer, to generate a table/dataframe of user names and the number of questions they have answered sorted in a descending order. E.g. the output would look something like (and the index doesn't matter to me):\n",
    "![](assignment3q5.png)"
   ]
  }
 ],
 "metadata": {
  "kernelspec": {
   "display_name": "Python 3",
   "language": "python",
   "name": "python3"
  },
  "language_info": {
   "codemirror_mode": {
    "name": "ipython",
    "version": 3
   },
   "file_extension": ".py",
   "mimetype": "text/x-python",
   "name": "python",
   "nbconvert_exporter": "python",
   "pygments_lexer": "ipython3",
   "version": "3.7.3"
  }
 },
 "nbformat": 4,
 "nbformat_minor": 4
}
