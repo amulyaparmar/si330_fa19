{
 "cells": [
  {
   "cell_type": "markdown",
   "metadata": {},
   "source": [
    "# Time Series and Gaps\n",
    "What do we do when we have missing data in a time series?"
   ]
  },
  {
   "cell_type": "code",
   "execution_count": null,
   "metadata": {},
   "outputs": [],
   "source": [
    "import pandas as pd\n",
    "df=pd.read_csv(\"datasets/ewcitmeas.txt\", delim_whitespace=True, dtype=float, na_values=\"*\")\n",
    "df.rename(columns={'DD': 'day', 'MM': 'month', 'YY': 'year'}, inplace=True)\n",
    "df['year'] = df['year'] + 1900\n",
    "df=df.set_index(pd.to_datetime(df[['year', 'month', 'day']])).drop([\"day\",\"month\",\"year\"], axis='columns')\n",
    "df.head()"
   ]
  },
  {
   "cell_type": "code",
   "execution_count": null,
   "metadata": {},
   "outputs": [],
   "source": [
    "%matplotlib inline\n",
    "import matplotlib as mpl\n",
    "mpl.rcParams['figure.figsize'] = 12, 8"
   ]
  },
  {
   "cell_type": "code",
   "execution_count": null,
   "metadata": {},
   "outputs": [],
   "source": [
    "df[\"London\"].plot(style=\".\")"
   ]
  },
  {
   "cell_type": "code",
   "execution_count": null,
   "metadata": {},
   "outputs": [],
   "source": [
    "# Should we explore plotting?"
   ]
  },
  {
   "cell_type": "code",
   "execution_count": null,
   "metadata": {},
   "outputs": [],
   "source": [
    "# Let's make some holes!\n",
    "df2=df[\"London\"].sample(500)\n",
    "df2.plot(style=\".\")\n",
    "display(df2.head())"
   ]
  },
  {
   "cell_type": "code",
   "execution_count": null,
   "metadata": {},
   "outputs": [],
   "source": [
    "# How do we fill the holes?"
   ]
  },
  {
   "cell_type": "code",
   "execution_count": null,
   "metadata": {},
   "outputs": [],
   "source": [
    "# We could try and resample and forward fill values\n",
    "df_ffill=df2.resample(\"D\").fillna(method=\"ffill\")\n",
    "df_ffill.plot(style=\".\")"
   ]
  },
  {
   "cell_type": "code",
   "execution_count": null,
   "metadata": {},
   "outputs": [],
   "source": [
    "# What if we applied a rolling window?\n",
    "import numpy as np\n",
    "df2.resample(\"D\").asfreq().rolling(10,min_periods=1).apply(np.nanmean).dropna().plot(style=\".\")"
   ]
  },
  {
   "cell_type": "code",
   "execution_count": null,
   "metadata": {},
   "outputs": [],
   "source": [
    "# Maybe we could write our own rolling window?\n",
    "def rock(ary):\n",
    "    for i in range(len(ary)-1,0,-1):\n",
    "        if ary[i] != np.nan:\n",
    "            return ary[i]\n",
    "    return np.nan\n",
    "\n",
    "df2.resample(\"D\").asfreq().rolling(50,min_periods=1).apply(rock).dropna().plot(style=\".\")"
   ]
  },
  {
   "cell_type": "code",
   "execution_count": null,
   "metadata": {},
   "outputs": [],
   "source": [
    "df2.resample(\"D\").interpolate(method=\"time\").plot(style=\".\")"
   ]
  },
  {
   "cell_type": "code",
   "execution_count": null,
   "metadata": {},
   "outputs": [],
   "source": [
    "df2.resample(\"D\").interpolate(method=\"linear\").plot(style=\".\")"
   ]
  },
  {
   "cell_type": "code",
   "execution_count": null,
   "metadata": {},
   "outputs": [],
   "source": [
    "df2.resample(\"D\").interpolate(method=\"polynomial\", order=3).plot(style=\".\")"
   ]
  },
  {
   "cell_type": "code",
   "execution_count": null,
   "metadata": {},
   "outputs": [],
   "source": [
    "# what does interpolate work on?\n",
    "import pandas as pd\n",
    "import numpy as np\n",
    "df=pd.read_csv(\"datasets/run.csv\")\n",
    "df.head()"
   ]
  },
  {
   "cell_type": "code",
   "execution_count": null,
   "metadata": {},
   "outputs": [],
   "source": [
    "df=df[0:10].append(df[20:100])\n",
    "df=df.set_index(pd.to_datetime(df[\"timestamp\"]))\n",
    "df.head(20)"
   ]
  },
  {
   "cell_type": "code",
   "execution_count": null,
   "metadata": {},
   "outputs": [],
   "source": [
    "df[\"heart_rate\"].plot(style=\".\")"
   ]
  },
  {
   "cell_type": "code",
   "execution_count": null,
   "metadata": {},
   "outputs": [],
   "source": [
    "df.resample(\"1s\").interpolate(method=\"time\").head(20)"
   ]
  },
  {
   "cell_type": "code",
   "execution_count": null,
   "metadata": {},
   "outputs": [],
   "source": [
    "df.resample(\"1s\").interpolate(method=\"time\")[\"heart_rate\"].plot(style=\".\")"
   ]
  },
  {
   "cell_type": "code",
   "execution_count": null,
   "metadata": {},
   "outputs": [],
   "source": [
    "import matplotlib.pyplot as plt\n",
    "df.resample(\"1s\").interpolate(method=\"time\")[\"heart_rate\"].plot(style=\"b.\")\n",
    "plt.figure()\n",
    "df.resample(\"1s\").fillna(method=\"ffill\")[\"heart_rate\"].plot(style=\"r.\")\n",
    "plt.figure()\n",
    "df.resample(\"1s\").fillna(method=\"nearest\")[\"heart_rate\"].plot(style=\"g.\")"
   ]
  }
 ],
 "metadata": {
  "kernelspec": {
   "display_name": "Python 3",
   "language": "python",
   "name": "python3"
  },
  "language_info": {
   "codemirror_mode": {
    "name": "ipython",
    "version": 3
   },
   "file_extension": ".py",
   "mimetype": "text/x-python",
   "name": "python",
   "nbconvert_exporter": "python",
   "pygments_lexer": "ipython3",
   "version": "3.7.3"
  }
 },
 "nbformat": 4,
 "nbformat_minor": 2
}
