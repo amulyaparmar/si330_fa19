{
 "cells": [
  {
   "cell_type": "code",
   "execution_count": null,
   "metadata": {},
   "outputs": [],
   "source": [
    "%matplotlib inline\n",
    "#ftp://ftp.ncdc.noaa.gov/pub/data/cdo/documentation/PRECIP_15_documentation.pdf\n",
    "\n",
    "'''\n",
    "QPCP: The amount of precipitation recorded at the station for the 15 minute period\n",
    "ending at the time specified for DATE above given in hundredths of inches or tenths of\n",
    "millimeters depending on user’s specification of standard or metric units.\n",
    "\n",
    "HT==hundredths of inches\n",
    "'''\n",
    "\n",
    "#What does the daily precipitation accumulation look like?\n",
    "\n",
    "import pandas as pd\n",
    "import numpy as np\n",
    "df=pd.read_csv(\"datasets/1934033.csv\")\n",
    "df=df[df[\"STATION\"]==\"COOP:200230\"] #A2 campus\n",
    "df.head()"
   ]
  }
 ],
 "metadata": {
  "kernelspec": {
   "display_name": "Python 3",
   "language": "python",
   "name": "python3"
  },
  "language_info": {
   "codemirror_mode": {
    "name": "ipython",
    "version": 3
   },
   "file_extension": ".py",
   "mimetype": "text/x-python",
   "name": "python",
   "nbconvert_exporter": "python",
   "pygments_lexer": "ipython3",
   "version": "3.7.3"
  }
 },
 "nbformat": 4,
 "nbformat_minor": 2
}
