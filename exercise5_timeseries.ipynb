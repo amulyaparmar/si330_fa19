{
 "cells": [
  {
   "cell_type": "code",
   "execution_count": 2,
   "metadata": {},
   "outputs": [
    {
     "data": {
      "text/html": [
       "<div>\n",
       "<style scoped>\n",
       "    .dataframe tbody tr th:only-of-type {\n",
       "        vertical-align: middle;\n",
       "    }\n",
       "\n",
       "    .dataframe tbody tr th {\n",
       "        vertical-align: top;\n",
       "    }\n",
       "\n",
       "    .dataframe thead th {\n",
       "        text-align: right;\n",
       "    }\n",
       "</style>\n",
       "<table border=\"1\" class=\"dataframe\">\n",
       "  <thead>\n",
       "    <tr style=\"text-align: right;\">\n",
       "      <th></th>\n",
       "      <th>ELEVATION</th>\n",
       "      <th>LATITUDE</th>\n",
       "      <th>LONGITUDE</th>\n",
       "      <th>QGAG</th>\n",
       "      <th>QPCP</th>\n",
       "    </tr>\n",
       "  </thead>\n",
       "  <tbody>\n",
       "    <tr>\n",
       "      <th>count</th>\n",
       "      <td>12192.000000</td>\n",
       "      <td>12192.000000</td>\n",
       "      <td>12192.000000</td>\n",
       "      <td>12192.000000</td>\n",
       "      <td>12192.000000</td>\n",
       "    </tr>\n",
       "    <tr>\n",
       "      <th>mean</th>\n",
       "      <td>274.402657</td>\n",
       "      <td>42.297762</td>\n",
       "      <td>-83.714192</td>\n",
       "      <td>-4977.626605</td>\n",
       "      <td>-506.243985</td>\n",
       "    </tr>\n",
       "    <tr>\n",
       "      <th>std</th>\n",
       "      <td>0.225965</td>\n",
       "      <td>0.002615</td>\n",
       "      <td>0.002895</td>\n",
       "      <td>5005.592632</td>\n",
       "      <td>2244.553990</td>\n",
       "    </tr>\n",
       "    <tr>\n",
       "      <th>min</th>\n",
       "      <td>274.300000</td>\n",
       "      <td>42.294700</td>\n",
       "      <td>-83.716670</td>\n",
       "      <td>-9999.000000</td>\n",
       "      <td>-9999.000000</td>\n",
       "    </tr>\n",
       "    <tr>\n",
       "      <th>25%</th>\n",
       "      <td>274.300000</td>\n",
       "      <td>42.294700</td>\n",
       "      <td>-83.716670</td>\n",
       "      <td>-9999.000000</td>\n",
       "      <td>0.100000</td>\n",
       "    </tr>\n",
       "    <tr>\n",
       "      <th>50%</th>\n",
       "      <td>274.300000</td>\n",
       "      <td>42.300000</td>\n",
       "      <td>-83.716670</td>\n",
       "      <td>0.000000</td>\n",
       "      <td>0.100000</td>\n",
       "    </tr>\n",
       "    <tr>\n",
       "      <th>75%</th>\n",
       "      <td>274.300000</td>\n",
       "      <td>42.300000</td>\n",
       "      <td>-83.710800</td>\n",
       "      <td>0.870000</td>\n",
       "      <td>0.100000</td>\n",
       "    </tr>\n",
       "    <tr>\n",
       "      <th>max</th>\n",
       "      <td>274.900000</td>\n",
       "      <td>42.300000</td>\n",
       "      <td>-83.710800</td>\n",
       "      <td>999.990000</td>\n",
       "      <td>999.990000</td>\n",
       "    </tr>\n",
       "  </tbody>\n",
       "</table>\n",
       "</div>"
      ],
      "text/plain": [
       "          ELEVATION      LATITUDE     LONGITUDE          QGAG          QPCP\n",
       "count  12192.000000  12192.000000  12192.000000  12192.000000  12192.000000\n",
       "mean     274.402657     42.297762    -83.714192  -4977.626605   -506.243985\n",
       "std        0.225965      0.002615      0.002895   5005.592632   2244.553990\n",
       "min      274.300000     42.294700    -83.716670  -9999.000000  -9999.000000\n",
       "25%      274.300000     42.294700    -83.716670  -9999.000000      0.100000\n",
       "50%      274.300000     42.300000    -83.716670      0.000000      0.100000\n",
       "75%      274.300000     42.300000    -83.710800      0.870000      0.100000\n",
       "max      274.900000     42.300000    -83.710800    999.990000    999.990000"
      ]
     },
     "execution_count": 2,
     "metadata": {},
     "output_type": "execute_result"
    }
   ],
   "source": [
    "%matplotlib inline\n",
    "#ftp://ftp.ncdc.noaa.gov/pub/data/cdo/documentation/PRECIP_15_documentation.pdf\n",
    "\n",
    "'''\n",
    "QPCP: The amount of precipitation recorded at the station for the 15 minute period\n",
    "ending at the time specified for DATE above given in hundredths of inches or tenths of\n",
    "millimeters depending on user’s specification of standard or metric units.\n",
    "\n",
    "HT==hundredths of inches\n",
    "'''\n",
    "\n",
    "#What does the daily precipitation accumulation look like?\n",
    "\n",
    "import pandas as pd\n",
    "import numpy as np\n",
    "df=pd.read_csv(\"datasets/1934033.csv\")\n",
    "df=df[df[\"STATION\"]==\"COOP:200230\"] #A2 campus\n",
    "df.head()\n",
    "df.describe()"
   ]
  },
  {
   "cell_type": "code",
   "execution_count": 17,
   "metadata": {},
   "outputs": [
    {
     "data": {
      "text/plain": [
       "<matplotlib.axes._subplots.AxesSubplot at 0x7fb9daca2e48>"
      ]
     },
     "execution_count": 17,
     "metadata": {},
     "output_type": "execute_result"
    },
    {
     "data": {
      "image/png": "[encoded data removed]",
      "text/plain": [
       "<Figure size 432x288 with 1 Axes>"
      ]
     },
     "metadata": {
      "needs_background": "light"
     },
     "output_type": "display_data"
    }
   ],
   "source": [
    "df=df.set_index(pd.to_datetime(df[\"DATE\"]))\n",
    "def clean(item):\n",
    "    if item == -9999:\n",
    "        return np.nan\n",
    "    if item == 999.99:\n",
    "        return np.nan\n",
    "    return item\n",
    "\n",
    "df[\"QPCP\"]=df[\"QPCP\"].apply(clean)\n",
    "\n",
    "new_df=df[\"QPCP\"].interpolate().resample(\"1D\").apply(np.sum)\n",
    "new_df.plot()"
   ]
  },
  {
   "cell_type": "code",
   "execution_count": 18,
   "metadata": {},
   "outputs": [
    {
     "data": {
      "text/plain": [
       "<matplotlib.axes._subplots.AxesSubplot at 0x7fb9dada31d0>"
      ]
     },
     "execution_count": 18,
     "metadata": {},
     "output_type": "execute_result"
    },
    {
     "data": {
      "image/png": "[encoded data removed]",
      "text/plain": [
       "<Figure size 864x576 with 1 Axes>"
      ]
     },
     "metadata": {
      "needs_background": "light"
     },
     "output_type": "display_data"
    }
   ],
   "source": [
    "import matplotlib.pyplot as plt\n",
    "plt.figure(figsize=(12,8))\n",
    "new_df[new_df.index>\"2013\"].plot(style=\".\")"
   ]
  }
 ],
 "metadata": {
  "kernelspec": {
   "display_name": "Python 3",
   "language": "python",
   "name": "python3"
  },
  "language_info": {
   "codemirror_mode": {
    "name": "ipython",
    "version": 3
   },
   "file_extension": ".py",
   "mimetype": "text/x-python",
   "name": "python",
   "nbconvert_exporter": "python",
   "pygments_lexer": "ipython3",
   "version": "3.7.3"
  }
 },
 "nbformat": 4,
 "nbformat_minor": 2
}
